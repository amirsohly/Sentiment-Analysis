{
 "cells": [
  {
   "cell_type": "markdown",
   "source": [
    "# Replacing Negations with Antonyms"
   ],
   "metadata": {}
  },
  {
   "cell_type": "markdown",
   "source": [
    "### we will convert sentence \"let's not uglify our code\" to \"let's beatify our code\"\n"
   ],
   "metadata": {}
  },
  {
   "cell_type": "code",
   "execution_count": 1,
   "source": [
    "#Amirreza_Soheili_97463133\r\n",
    "from nltk.corpus import wordnet\r\n",
    "\r\n",
    "class AntonymReplacer(object):\r\n",
    "    def replace(self,word,pos=None):\r\n",
    "        antonyms=set()\r\n",
    "        for syn in wordnet.synsets(word,pos=pos):\r\n",
    "            for lemma in syn.lemmas():\r\n",
    "                for antonym in lemma.antonyms():\r\n",
    "                    antonyms.add(antonym.name())\r\n",
    "        if len(antonyms)==1:\r\n",
    "            return antonyms.pop()\r\n",
    "        else:\r\n",
    "            return None\r\n",
    "    def replace_negations(self,sent):\r\n",
    "        i,l=0,len(sent)\r\n",
    "        words=[]\r\n",
    "        while i<l:\r\n",
    "            word=sent[i]\r\n",
    "            if word.lower()=='not' and i+1<l:\r\n",
    "                ant=self.replace(sent[i+1])\r\n",
    "                if ant:\r\n",
    "                    words.append(ant)\r\n",
    "                    i+=2\r\n",
    "                    continue\r\n",
    "            words.append(word)\r\n",
    "            i+=1\r\n",
    "        return words"
   ],
   "outputs": [],
   "metadata": {
    "collapsed": true
   }
  },
  {
   "cell_type": "code",
   "execution_count": 2,
   "source": [
    "replacer=AntonymReplacer()"
   ],
   "outputs": [],
   "metadata": {
    "collapsed": true
   }
  },
  {
   "cell_type": "code",
   "execution_count": 3,
   "source": [
    "from nltk.tokenize import word_tokenize\r\n",
    "\r\n",
    "sent=word_tokenize(\"let's not uglify our code\")\r\n",
    "replacer.replace_negations(sent)"
   ],
   "outputs": [
    {
     "output_type": "execute_result",
     "data": {
      "text/plain": [
       "['let', \"'s\", 'beautify', 'our', 'code']"
      ]
     },
     "metadata": {},
     "execution_count": 3
    }
   ],
   "metadata": {
    "collapsed": false
   }
  },
  {
   "cell_type": "code",
   "execution_count": 4,
   "source": [
    "replacer.replace(\"evil\")"
   ],
   "outputs": [],
   "metadata": {
    "collapsed": true
   }
  },
  {
   "cell_type": "markdown",
   "source": [
    "## Change the code a little bit"
   ],
   "metadata": {}
  },
  {
   "cell_type": "code",
   "execution_count": 5,
   "source": [
    "class CustomAntonymReplacer(object):\r\n",
    "    def replace(self,word,pos=None):\r\n",
    "        antonyms=set()\r\n",
    "        for syn in wordnet.synsets(word,pos=pos):\r\n",
    "            for lemma in syn.lemmas():\r\n",
    "                for antonym in lemma.antonyms():\r\n",
    "                    antonyms.add(antonym.name())\r\n",
    "        if len(antonyms)>=1:\r\n",
    "            return antonyms\r\n",
    "        else:\r\n",
    "            return None"
   ],
   "outputs": [],
   "metadata": {
    "collapsed": true
   }
  },
  {
   "cell_type": "code",
   "execution_count": 6,
   "source": [
    "replacer=CustomAntonymReplacer()\r\n",
    "replacer.replace(\"good\")"
   ],
   "outputs": [
    {
     "output_type": "execute_result",
     "data": {
      "text/plain": [
       "{'bad', 'badness', 'evil', 'evilness', 'ill'}"
      ]
     },
     "metadata": {},
     "execution_count": 6
    }
   ],
   "metadata": {
    "collapsed": false
   }
  },
  {
   "cell_type": "code",
   "execution_count": 7,
   "source": [
    "replacer.replace(\"evil\")"
   ],
   "outputs": [
    {
     "output_type": "execute_result",
     "data": {
      "text/plain": [
       "{'good', 'goodness'}"
      ]
     },
     "metadata": {},
     "execution_count": 7
    }
   ],
   "metadata": {
    "collapsed": false
   }
  }
 ],
 "metadata": {
  "kernelspec": {
   "display_name": "Python 3",
   "language": "python",
   "name": "python3"
  },
  "language_info": {
   "codemirror_mode": {
    "name": "ipython",
    "version": 3
   },
   "file_extension": ".py",
   "mimetype": "text/x-python",
   "name": "python",
   "nbconvert_exporter": "python",
   "pygments_lexer": "ipython3",
   "version": "3.6.0"
  }
 },
 "nbformat": 4,
 "nbformat_minor": 2
}