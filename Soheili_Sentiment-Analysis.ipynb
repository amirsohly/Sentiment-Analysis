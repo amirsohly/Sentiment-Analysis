{
  "nbformat": 4,
  "nbformat_minor": 2,
  "metadata": {
    "colab": {
      "name": "Soheili_97463133_Sentiment-Analysis.ipynb",
      "provenance": []
    },
    "kernelspec": {
      "name": "python3",
      "display_name": "Python 3"
    },
    "language_info": {
      "name": "python"
    }
  },
  "cells": [
    {
      "cell_type": "code",
      "execution_count": 170,
      "source": [
        "#Amirreza_Soheili_97463133\r\n",
        "import ssl\r\n",
        "import numpy as np\r\n",
        "import pandas as pd\r\n",
        "import nltk\r\n",
        "from sklearn.model_selection import train_test_split\r\n",
        "from sklearn.feature_extraction.text import CountVectorizer\r\n",
        "from keras import Sequential\r\n",
        "from keras.layers import Embedding, Dense, Flatten\r\n",
        "from keras.preprocessing import sequence\r\n",
        "from keras.datasets import imdb\r\n",
        "from nltk.stem import PorterStemmer\r\n",
        "from nltk.tokenize import word_tokenize\r\n",
        "from sklearn.metrics import accuracy_score"
      ],
      "outputs": [],
      "metadata": {
        "id": "ILLOepggNApW"
      }
    },
    {
      "cell_type": "code",
      "execution_count": 171,
      "source": [
        "def main():\r\n",
        "    parameters = set_processing_parameters()\r\n",
        "    network_weights = train_imdb_network(parameters)\r\n",
        "    analyze_dataset(parameters, network_weights)\r\n",
        "\r\n",
        "\r\n",
        "def set_processing_parameters():\r\n",
        "    parameters = {\r\n",
        "        'vocabulary_size': 5000,\r\n",
        "        'max_words': 500\r\n",
        "    }\r\n",
        "    return parameters"
      ],
      "outputs": [],
      "metadata": {
        "id": "rPw1Z0OJO_8F"
      }
    },
    {
      "cell_type": "code",
      "execution_count": 172,
      "source": [
        "def train_imdb_network(parameters):\n",
        "    (x, y), (_, __) = load_imdb_dataset(parameters['vocabulary_size'])\n",
        "    x = sequence.pad_sequences(x, maxlen=parameters['max_words'])\n",
        "    x_train, x_test, y_train, y_test = train_test_split(x, y, test_size=0.25)\n",
        "\n",
        "    classifier = Sequential()\n",
        "    classifier.add(\n",
        "        Embedding(\n",
        "            input_dim=parameters['vocabulary_size'],\n",
        "            output_dim=64,\n",
        "            input_length=parameters['max_words']\n",
        "        )\n",
        "    )\n",
        "    classifier.add(Dense(units=64, activation='relu'))\n",
        "    classifier.add(Dense(units=32, activation='relu'))\n",
        "    classifier.add(Flatten())\n",
        "    classifier.add(Dense(units=1, activation='sigmoid'))\n",
        "\n",
        "    classifier.compile(\n",
        "        loss='binary_crossentropy',\n",
        "        optimizer='adam',\n",
        "        metrics=['accuracy']\n",
        "    )\n",
        "\n",
        "    classifier.fit(\n",
        "        x=x_train,\n",
        "        y=y_train,\n",
        "        validation_data=(x_test, y_test),\n",
        "        batch_size=32,\n",
        "        epochs=5,\n",
        "        verbose=2\n",
        "    )\n",
        "\n",
        "    weights = [\n",
        "        classifier.layers[i].get_weights()\n",
        "        for i in range(1, (len(classifier.layers) - 2))\n",
        "    ]\n",
        "\n",
        "    return weights"
      ],
      "outputs": [],
      "metadata": {
        "id": "w3AA0ZyIPFpV"
      }
    },
    {
      "cell_type": "code",
      "execution_count": 176,
      "source": [
        "def analyze_dataset(parameters, weights):\n",
        "    dataset = pd.read_csv('TranslatedDigikalaDataset.csv')\n",
        "    y = dataset.iloc[:, 1].values\n",
        "    x = preprocess_text(dataset['Comment'], parameters)\n",
        "\n",
        "    x_train, x_test, y_train, y_test = train_test_split(x, y, test_size=0.3)\n",
        "\n",
        "    corpus = {\n",
        "        'x_train': x_train,\n",
        "        'y_train': y_train,\n",
        "        'x_test': x_test\n",
        "    }\n",
        "    y_prediction = classify_translated_data(parameters, weights, corpus)\n",
        "\n",
        "    evaluate_classifier(y_test, y_prediction)"
      ],
      "outputs": [],
      "metadata": {
        "id": "Gim2xj9Ar6F0"
      }
    },
    {
      "cell_type": "code",
      "execution_count": 177,
      "source": [
        "dataset.head()"
      ],
      "outputs": [
        {
          "output_type": "execute_result",
          "data": {
            "text/html": [
              "\n",
              "  <div id=\"df-73b7f44c-e493-4f63-a49e-31271c98a564\">\n",
              "    <div class=\"colab-df-container\">\n",
              "      <div>\n",
              "<style scoped>\n",
              "    .dataframe tbody tr th:only-of-type {\n",
              "        vertical-align: middle;\n",
              "    }\n",
              "\n",
              "    .dataframe tbody tr th {\n",
              "        vertical-align: top;\n",
              "    }\n",
              "\n",
              "    .dataframe thead th {\n",
              "        text-align: right;\n",
              "    }\n",
              "</style>\n",
              "<table border=\"1\" class=\"dataframe\">\n",
              "  <thead>\n",
              "    <tr style=\"text-align: right;\">\n",
              "      <th></th>\n",
              "      <th>Comment</th>\n",
              "      <th>Liked</th>\n",
              "    </tr>\n",
              "  </thead>\n",
              "  <tbody>\n",
              "    <tr>\n",
              "      <th>0</th>\n",
              "      <td>A great front-facing phone that's great\\r\\n</td>\n",
              "      <td>1</td>\n",
              "    </tr>\n",
              "    <tr>\n",
              "      <th>1</th>\n",
              "      <td>The appearance of the back may not be like a s...</td>\n",
              "      <td>0</td>\n",
              "    </tr>\n",
              "    <tr>\n",
              "      <th>2</th>\n",
              "      <td>Hardware is very powerful and very heavy softw...</td>\n",
              "      <td>1</td>\n",
              "    </tr>\n",
              "    <tr>\n",
              "      <th>3</th>\n",
              "      <td>If you're having trouble with it, it's a good ...</td>\n",
              "      <td>1</td>\n",
              "    </tr>\n",
              "    <tr>\n",
              "      <th>4</th>\n",
              "      <td>The screen of this handset is one of the most ...</td>\n",
              "      <td>1</td>\n",
              "    </tr>\n",
              "  </tbody>\n",
              "</table>\n",
              "</div>\n",
              "      <button class=\"colab-df-convert\" onclick=\"convertToInteractive('df-73b7f44c-e493-4f63-a49e-31271c98a564')\"\n",
              "              title=\"Convert this dataframe to an interactive table.\"\n",
              "              style=\"display:none;\">\n",
              "        \n",
              "  <svg xmlns=\"http://www.w3.org/2000/svg\" height=\"24px\"viewBox=\"0 0 24 24\"\n",
              "       width=\"24px\">\n",
              "    <path d=\"M0 0h24v24H0V0z\" fill=\"none\"/>\n",
              "    <path d=\"M18.56 5.44l.94 2.06.94-2.06 2.06-.94-2.06-.94-.94-2.06-.94 2.06-2.06.94zm-11 1L8.5 8.5l.94-2.06 2.06-.94-2.06-.94L8.5 2.5l-.94 2.06-2.06.94zm10 10l.94 2.06.94-2.06 2.06-.94-2.06-.94-.94-2.06-.94 2.06-2.06.94z\"/><path d=\"M17.41 7.96l-1.37-1.37c-.4-.4-.92-.59-1.43-.59-.52 0-1.04.2-1.43.59L10.3 9.45l-7.72 7.72c-.78.78-.78 2.05 0 2.83L4 21.41c.39.39.9.59 1.41.59.51 0 1.02-.2 1.41-.59l7.78-7.78 2.81-2.81c.8-.78.8-2.07 0-2.86zM5.41 20L4 18.59l7.72-7.72 1.47 1.35L5.41 20z\"/>\n",
              "  </svg>\n",
              "      </button>\n",
              "      \n",
              "  <style>\n",
              "    .colab-df-container {\n",
              "      display:flex;\n",
              "      flex-wrap:wrap;\n",
              "      gap: 12px;\n",
              "    }\n",
              "\n",
              "    .colab-df-convert {\n",
              "      background-color: #E8F0FE;\n",
              "      border: none;\n",
              "      border-radius: 50%;\n",
              "      cursor: pointer;\n",
              "      display: none;\n",
              "      fill: #1967D2;\n",
              "      height: 32px;\n",
              "      padding: 0 0 0 0;\n",
              "      width: 32px;\n",
              "    }\n",
              "\n",
              "    .colab-df-convert:hover {\n",
              "      background-color: #E2EBFA;\n",
              "      box-shadow: 0px 1px 2px rgba(60, 64, 67, 0.3), 0px 1px 3px 1px rgba(60, 64, 67, 0.15);\n",
              "      fill: #174EA6;\n",
              "    }\n",
              "\n",
              "    [theme=dark] .colab-df-convert {\n",
              "      background-color: #3B4455;\n",
              "      fill: #D2E3FC;\n",
              "    }\n",
              "\n",
              "    [theme=dark] .colab-df-convert:hover {\n",
              "      background-color: #434B5C;\n",
              "      box-shadow: 0px 1px 3px 1px rgba(0, 0, 0, 0.15);\n",
              "      filter: drop-shadow(0px 1px 2px rgba(0, 0, 0, 0.3));\n",
              "      fill: #FFFFFF;\n",
              "    }\n",
              "  </style>\n",
              "\n",
              "      <script>\n",
              "        const buttonEl =\n",
              "          document.querySelector('#df-73b7f44c-e493-4f63-a49e-31271c98a564 button.colab-df-convert');\n",
              "        buttonEl.style.display =\n",
              "          google.colab.kernel.accessAllowed ? 'block' : 'none';\n",
              "\n",
              "        async function convertToInteractive(key) {\n",
              "          const element = document.querySelector('#df-73b7f44c-e493-4f63-a49e-31271c98a564');\n",
              "          const dataTable =\n",
              "            await google.colab.kernel.invokeFunction('convertToInteractive',\n",
              "                                                     [key], {});\n",
              "          if (!dataTable) return;\n",
              "\n",
              "          const docLinkHtml = 'Like what you see? Visit the ' +\n",
              "            '<a target=\"_blank\" href=https://colab.research.google.com/notebooks/data_table.ipynb>data table notebook</a>'\n",
              "            + ' to learn more about interactive tables.';\n",
              "          element.innerHTML = '';\n",
              "          dataTable['output_type'] = 'display_data';\n",
              "          await google.colab.output.renderOutput(dataTable, element);\n",
              "          const docLink = document.createElement('div');\n",
              "          docLink.innerHTML = docLinkHtml;\n",
              "          element.appendChild(docLink);\n",
              "        }\n",
              "      </script>\n",
              "    </div>\n",
              "  </div>\n",
              "  "
            ],
            "text/plain": [
              "                                             Comment  Liked\n",
              "0        A great front-facing phone that's great\\r\\n      1\n",
              "1  The appearance of the back may not be like a s...      0\n",
              "2  Hardware is very powerful and very heavy softw...      1\n",
              "3  If you're having trouble with it, it's a good ...      1\n",
              "4  The screen of this handset is one of the most ...      1"
            ]
          },
          "metadata": {},
          "execution_count": 177
        }
      ],
      "metadata": {
        "colab": {
          "base_uri": "https://localhost:8080/",
          "height": 206
        },
        "id": "m7zSuKMMuBcq",
        "outputId": "d81cb992-c530-4c47-edd5-cf36a3c81e3b"
      }
    },
    {
      "cell_type": "code",
      "execution_count": 178,
      "source": [
        "def preprocess_text(corpus, parameters):\n",
        "    nltk.download('stopwords')\n",
        "    stopwords = set(nltk.corpus.stopwords.words('english'))\n",
        "    stemmer = PorterStemmer()\n",
        "    dataset = pd.read_csv('TranslatedDigikalaDataset.csv')\n",
        "    tokenizer = word_tokenize(dataset)\n",
        "    x = []\n",
        "\n",
        "    for text in corpus:\n",
        "        tokenized_text = tokenizer.tokenize(text)\n",
        "        useful_words = [\n",
        "            stemmer.stem(word)[0]\n",
        "            for word in tokenized_text\n",
        "            if word not in stopwords\n",
        "        ]\n",
        "        preprocessed_text = ' '.join(useful_words)\n",
        "        x.append(preprocessed_text)\n",
        "\n",
        "    cv = CountVectorizer(max_features=parameters['max_words'])\n",
        "    x = cv.fit_transform(x).toarray()\n",
        "\n",
        "    return x\n",
        "\n"
      ],
      "outputs": [],
      "metadata": {
        "id": "a27g0RjnUsA2"
      }
    },
    {
      "cell_type": "code",
      "execution_count": 179,
      "source": [
        "\n",
        "def classify_translated_data(parameters, weights, corpus):\n",
        "    classifier = Sequential()\n",
        "    classifier.add(\n",
        "        Embedding(\n",
        "            input_dim=parameters['vocabulary_size'],\n",
        "            output_dim=64,\n",
        "            input_length=parameters['max_words']\n",
        "        )\n",
        "    )\n",
        "    classifier.add(Dense(units=64, activation='relu'))\n",
        "    classifier.add(Dense(units=32, activation='relu'))\n",
        "\n",
        "    for i in range(1, len(classifier.layers)):\n",
        "        classifier.layers[i].set_weights(weights[i-1])\n",
        "        classifier.layers[i].trainable = False\n",
        "\n",
        "    classifier.add(Dense(units=32, activation='relu'))\n",
        "    classifier.add(Flatten())\n",
        "    classifier.add(Dense(units=1, activation='sigmoid'))\n",
        "\n",
        "    classifier.compile(\n",
        "        loss='binary_crossentropy',\n",
        "        optimizer='adam',\n",
        "        metrics=['accuracy']\n",
        "    )\n",
        "\n",
        "    classifier.fit(\n",
        "        x=corpus['x_train'],\n",
        "        y=corpus['y_train'],\n",
        "        batch_size=1,\n",
        "        epochs=5,\n",
        "        verbose=2\n",
        "    )\n",
        "\n",
        "    y_prediction = (classifier.predict(corpus['x_test']) > 0.5)\n",
        "\n",
        "    return y_prediction"
      ],
      "outputs": [],
      "metadata": {
        "id": "fGRe4ja4VkPu"
      }
    },
    {
      "cell_type": "code",
      "execution_count": 180,
      "source": [
        "def evaluate_classifier(y_true, y_prediction):\n",
        "    print('* Accuracy: {:.2%}'.format(accuracy(y_true, y_prediction)))"
      ],
      "outputs": [],
      "metadata": {
        "id": "gitf2dR0Vouu"
      }
    },
    {
      "cell_type": "code",
      "execution_count": 183,
      "source": [
        "if __name__ == '__main__':\n",
        "    try:\n",
        "        _create_unverified_https_context = ssl._create_unverified_context\n",
        "    except AttributeError:\n",
        "        pass\n",
        "    else:\n",
        "        ssl._create_default_https_context = _create_unverified_https_context"
      ],
      "outputs": [],
      "metadata": {
        "id": "EezomtF2YzSW"
      }
    },
    {
      "cell_type": "code",
      "execution_count": null,
      "source": [
        "main()"
      ],
      "outputs": [],
      "metadata": {
        "id": "1mOjJLpt2qM8"
      }
    }
  ]
}